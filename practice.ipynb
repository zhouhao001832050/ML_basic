{
 "cells": [
  {
   "cell_type": "code",
   "execution_count": 17,
   "id": "e8c7ebed",
   "metadata": {},
   "outputs": [],
   "source": [
    "classList = [1, 1, 1, 1, 1, 1, 1, 1, 0, 0, 0, 0, 0, 0, 0, 0, 0,2,2,2]\n"
   ]
  },
  {
   "cell_type": "code",
   "execution_count": 18,
   "id": "0d695a25",
   "metadata": {},
   "outputs": [],
   "source": [
    "def majorityCnt(classList):\n",
    "    classCount={}\n",
    "    for vote in classList:\n",
    "        if vote not in classCount.keys():\n",
    "            classCount[vote]=0\n",
    "        classCount[vote]+=1\n",
    "    print(classCount)\n",
    "    return max(classCount)\n"
   ]
  },
  {
   "cell_type": "code",
   "execution_count": 19,
   "id": "6c5c570b",
   "metadata": {},
   "outputs": [
    {
     "name": "stdout",
     "output_type": "stream",
     "text": [
      "{1: 8, 0: 9, 2: 3}\n"
     ]
    }
   ],
   "source": [
    "ma = majorityCnt(classList)"
   ]
  },
  {
   "cell_type": "code",
   "execution_count": 20,
   "id": "8d7d2536",
   "metadata": {},
   "outputs": [
    {
     "name": "stdout",
     "output_type": "stream",
     "text": [
      "2\n"
     ]
    }
   ],
   "source": [
    "print(ma)"
   ]
  },
  {
   "cell_type": "markdown",
   "id": "7e77b976",
   "metadata": {},
   "source": []
  },
  {
   "cell_type": "code",
   "execution_count": 15,
   "id": "4a7086ff",
   "metadata": {},
   "outputs": [
    {
     "name": "stdout",
     "output_type": "stream",
     "text": [
      "(10,)\n",
      "(10, 1)\n"
     ]
    }
   ],
   "source": [
    "import numpy as np\n",
    "import torch\n",
    "num_hidden=10\n",
    "num_input=8\n",
    "num_output=1\n",
    "print(np.zeros(num_hidden).shape)\n",
    "b1=np.zeros(num_hidden).reshape(-1,1)\n",
    "print(b1.shape)"
   ]
  },
  {
   "cell_type": "code",
   "execution_count": 16,
   "id": "0645a102",
   "metadata": {},
   "outputs": [
    {
     "name": "stdout",
     "output_type": "stream",
     "text": [
      "(10, 8)\n"
     ]
    }
   ],
   "source": [
    "W1=np.random.randn(num_hidden, num_input)\n",
    "print(W1.shape)"
   ]
  },
  {
   "cell_type": "code",
   "execution_count": 17,
   "id": "2902e5ff",
   "metadata": {},
   "outputs": [
    {
     "name": "stdout",
     "output_type": "stream",
     "text": [
      "(1, 10)\n"
     ]
    }
   ],
   "source": [
    "W2=np.random.randn(num_output, num_hidden)\n",
    "print(W2.shape)"
   ]
  },
  {
   "cell_type": "code",
   "execution_count": 18,
   "id": "87cbe524",
   "metadata": {},
   "outputs": [
    {
     "name": "stdout",
     "output_type": "stream",
     "text": [
      "(1, 1)\n"
     ]
    }
   ],
   "source": [
    "b2=np.zeros(num_output).reshape(-1,1)\n",
    "print(b2.shape)"
   ]
  },
  {
   "cell_type": "code",
   "execution_count": 19,
   "id": "98ab48e1",
   "metadata": {},
   "outputs": [
    {
     "name": "stdout",
     "output_type": "stream",
     "text": [
      "(10, 1)\n",
      "(1, 1)\n"
     ]
    }
   ],
   "source": [
    "o1=np.zeros(num_hidden).reshape(-1,1)\n",
    "print(o1.shape)\n",
    "o2=np.zeros(num_output).reshape(-1,1)\n",
    "print(o2.shape)"
   ]
  },
  {
   "cell_type": "code",
   "execution_count": null,
   "id": "e19eadca",
   "metadata": {},
   "outputs": [],
   "source": []
  }
 ],
 "metadata": {
  "kernelspec": {
   "display_name": "Python 3",
   "language": "python",
   "name": "python3"
  },
  "language_info": {
   "codemirror_mode": {
    "name": "ipython",
    "version": 3
   },
   "file_extension": ".py",
   "mimetype": "text/x-python",
   "name": "python",
   "nbconvert_exporter": "python",
   "pygments_lexer": "ipython3",
   "version": "3.7.9"
  },
  "vscode": {
   "interpreter": {
    "hash": "aee8b7b246df8f9039afb4144a1f6fd8d2ca17a180786b69acc140d282b71a49"
   }
  }
 },
 "nbformat": 4,
 "nbformat_minor": 5
}
